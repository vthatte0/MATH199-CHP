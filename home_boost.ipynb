{
 "cells": [
  {
   "cell_type": "code",
   "execution_count": 4,
   "metadata": {},
   "outputs": [],
   "source": [
    "import pandas as pd\n",
    "import scipy.special\n",
    "import math\n",
    "from matplotlib.pyplot import plot,scatter\n",
    "import statistics\n",
    "from sklearn.cluster import KMeans\n",
    "from kneed import KneeLocator"
   ]
  },
  {
   "cell_type": "code",
   "execution_count": 5,
   "metadata": {},
   "outputs": [
    {
     "name": "stdout",
     "output_type": "stream",
     "text": [
      "nba 2000 Indiana Pacers -5.631077324079996\n",
      "nba 2001 Denver Nuggets -5.610862267082693\n",
      "nba 2002 New Jersey Nets -4.228697343452214\n",
      "nba 2003 Chicago Bulls -8.914917337805443\n",
      "nba 2004 Dallas Mavericks -7.648357773084604\n",
      "nba 2005 San Antonio Spurs -6.846028544961502\n",
      "nba 2006 Orlando Magic -4.676365219094853\n",
      "nba 2007 Golden State Warriors -5.661837441662076\n",
      "nba 2008 Utah Jazz -8.016702264422117\n",
      "nba 2009 Utah Jazz -5.966234135382336\n",
      "nba 2010 Charlotte Bobcats -5.736040780142513\n",
      "nba 2011 Washington Wizards -5.555142475073601\n",
      "nba 2012 Utah Jazz -4.595523957659505\n",
      "nba 2013 Denver Nuggets -7.929267254368207\n",
      "nba 2014 Orlando Magic -4.65226216045649\n",
      "nba 2015 Golden State Warriors -4.345799270948383\n",
      "nba 2016 San Antonio Spurs -5.9627547043522755\n",
      "nba 2017 Indiana Pacers -4.7275519246970665\n",
      "nba 2018 San Antonio Spurs -6.4493585127408375\n",
      "nba 2019 San Antonio Spurs -4.941070454782477\n",
      "nba 2020 Philadelphia 76ers -8.91207340615599\n",
      "mlb 2000 NYM -3.1183210435371995\n",
      "mlb 2001 FLA -3.29193685603975\n",
      "mlb 2002 COL -4.346554667715094\n",
      "mlb 2003 COL -5.258320685759859\n",
      "mlb 2004 NYY -2.4908146058801757\n",
      "mlb 2005 HOU -3.323960025881781\n",
      "mlb 2006 TBD -4.441465043643942\n",
      "mlb 2007 MIL -3.8062888469612552\n",
      "mlb 2008 MIN -3.7114538891276823\n",
      "mlb 2009 TBR -4.087179775667115\n",
      "mlb 2010 PIT -5.117894192006658\n",
      "mlb 2011 MIL -3.660218645854777\n",
      "mlb 2012 HOU -2.955089287800533\n",
      "mlb 2013 ATL -3.1387415409197748\n",
      "mlb 2014 COL -5.299769493656813\n",
      "mlb 2015 HOU -4.102110834245696\n",
      "mlb 2016 LAD -2.857568258748195\n",
      "mlb 2017 BAL -3.283865626290832\n",
      "mlb 2018 MIN -4.062848299787805\n",
      "mlb 2019 CHC -3.5477602717490697\n",
      "mlb 2020 MIN -3.9854463822055157\n"
     ]
    }
   ],
   "source": [
    "years = range(2000, 2021)\n",
    "leagues = [\"nba\", \"mlb\"] # TODO: add other leagues\n",
    "\n",
    "def get_home_boost(total_pct, home_wins, home_games):\n",
    "    prob = 0\n",
    "    for wins in range(math.ceil(home_wins), home_games + 1):\n",
    "        prob += scipy.special.binom(home_games, wins) * total_pct ** wins * (1-total_pct) ** (home_games - wins)\n",
    "        \n",
    "    return math.log(prob)\n",
    "\n",
    "teamHomeBoosts={}\n",
    "for league in leagues:\n",
    "    teamHomeBoosts[league]={}\n",
    "    for year in years:\n",
    "        min_team = \"\"\n",
    "        min_boost = 0\n",
    "        \n",
    "        standings = pd.read_csv(\"data/\" + league + \"/\" + str(year) + \".csv\") \n",
    "        for (team, home, road) in zip(standings[\"Team\"], standings[\"Home\"], standings[\"Road\"]):\n",
    "            [home_wins, home_losses] = [int(games) for games in home.split(\"-\")]\n",
    "            [road_wins, road_losses] = [int(games) for games in road.split(\"-\")]\n",
    "\n",
    "            total_wins = home_wins + road_wins\n",
    "            total_games = total_wins + home_losses + road_losses\n",
    "\n",
    "            total_pct = total_wins / total_games\n",
    "\n",
    "            home_games = home_wins + home_losses\n",
    "            \n",
    "            boost = get_home_boost(total_pct, home_wins, home_games)\n",
    "            \n",
    "            if(team not in teamHomeBoosts[league]):\n",
    "                teamHomeBoosts[league][team]=[]\n",
    "            teamHomeBoosts[league][team].append(boost)\n",
    "            \n",
    "            if boost < min_boost:\n",
    "                min_team = team\n",
    "                min_boost = boost\n",
    "        print(league, year, min_team, min_boost)     \n",
    "        \n",
    "    "
   ]
  },
  {
   "cell_type": "code",
   "execution_count": 6,
   "metadata": {},
   "outputs": [
    {
     "name": "stdout",
     "output_type": "stream",
     "text": [
      "nfl 2000 Minnesota Vikings -6.857530817797155\n",
      "nfl 2001 Green Bay Packers -6.857530817797155\n",
      "nfl 2002 Green Bay Packers -9.877955703941518\n",
      "nfl 2003 Kansas City Chiefs -9.877955703941518\n",
      "nfl 2004 New England Patriots -9.877955703941518\n",
      "nfl 2005 Seattle Seahawks -9.877955703941518\n",
      "nfl 2006 Indianapolis Colts -9.877955703941518\n",
      "nfl 2007 New England Patriots -9.877955703941518\n",
      "nfl 2008 Carolina Panthers -9.877955703941518\n",
      "nfl 2009 Minnesota Vikings -9.877955703941518\n",
      "nfl 2010 New England Patriots -9.877955703941518\n",
      "nfl 2011 Green Bay Packers -9.877955703941518\n",
      "nfl 2012 Seattle Seahawks -9.877955703941518\n",
      "nfl 2013 New England Patriots -9.877955703941518\n",
      "nfl 2014 Green Bay Packers -9.877955703941518\n",
      "nfl 2015 Carolina Panthers -9.877955703941518\n",
      "nfl 2016 Houston Texans -6.857530817797155\n",
      "nfl 2017 Philadelphia Eagles -6.857530817797155\n",
      "nfl 2018 New England Patriots -9.877955703941518\n",
      "nfl 2019 Green Bay Packers -6.857530817797155\n",
      "nhl 2000 New Jersey Devils -15.251445696889641\n",
      "nhl 2001 Colorado Avalanche -15.251445696889641\n",
      "nhl 2002 Detroit Red Wings -15.251445696889641\n",
      "nhl 2003 Dallas Stars -15.251445696889641\n",
      "nhl 2004 Nashville Predators -22.81476921943602\n",
      "nhl 2006 Nashville Predators -22.81476921943602\n",
      "nhl 2007 Calgary Flames -18.796106133589692\n",
      "nhl 2008 Detroit Red Wings -16.967732657312176\n",
      "nhl 2009 San Jose Sharks -22.81476921943602\n",
      "nhl 2010 Washington Capitals -18.796106133589692\n",
      "nhl 2011 Vancouver Canucks -13.64224676992001\n",
      "nhl 2012 Detroit Red Wings -20.742637989629525\n",
      "nhl 2013 Los Angeles Kings -14.416349335168618\n",
      "nhl 2014 Boston Bruins -20.742637989629525\n",
      "nhl 2015 Tampa Bay Lightning -22.81476921943602\n",
      "nhl 2016 Washington Capitals -16.967732657312176\n",
      "nhl 2017 Washington Capitals -22.81476921943602\n",
      "nhl 2018 Winnipeg Jets -22.81476921943602\n",
      "nhl 2019 Tampa Bay Lightning -22.81476921943602\n"
     ]
    }
   ],
   "source": [
    "other_years = range(2000, 2020)\n",
    "other_leagues = [\"nfl\", \"nhl\"] # TODO: add other leagues\n",
    "\n",
    "for league in other_leagues:\n",
    "    teamHomeBoosts[league]={}\n",
    "    for year in other_years:\n",
    "        if league == \"nhl\" and year == 2005:\n",
    "            continue\n",
    "        \n",
    "        min_team = \"\"\n",
    "        min_boost = 0\n",
    "        \n",
    "        standings = pd.read_csv(\"data/\" + league + \"/\" + str(year) + \".csv\") \n",
    "        for (team, games, wins, home_games, home_wins) in zip(standings[\"Team\"], standings[\"Games\"], standings[\"Wins\"], standings[\"Home Games\"], standings[\"Home Wins\"]):\n",
    "            total_pct = total_wins / total_games\n",
    "            \n",
    "            boost = get_home_boost(total_pct, home_wins, home_games)\n",
    "            \n",
    "            if(team not in teamHomeBoosts[league]):\n",
    "                teamHomeBoosts[league][team]=[]\n",
    "            teamHomeBoosts[league][team].append(boost)\n",
    "            \n",
    "            if boost < min_boost:\n",
    "                min_team = team\n",
    "                min_boost = boost\n",
    "        print(league, year, min_team, min_boost)     \n",
    "        \n",
    "    "
   ]
  },
  {
   "cell_type": "code",
   "execution_count": 7,
   "metadata": {},
   "outputs": [
    {
     "name": "stdout",
     "output_type": "stream",
     "text": [
      "-3.629395155697537\n",
      "6\n",
      "5\n",
      "Consistent high home boosts: \n",
      "[-3.943459424549806, 5.482906443545058] Minnesota Vikings\n",
      "[-4.212087711854646, 6.109240468141274] Indianapolis Colts\n",
      "[-4.785610813556119, 4.250779783853469] Baltimore Ravens\n",
      "[-4.362143455953528, 4.0574173476600865] Pittsburgh Steelers\n",
      "[-6.285055598057965, 9.375197298281071] New England Patriots\n",
      "[-4.359237289018542, 10.146992362201468] Seattle Seahawks\n",
      "[-4.915949030568601, 8.833127325629722] Green Bay Packers\n",
      "[-3.903510409210428, 7.4688744119006625] Denver Broncos\n",
      "[-4.576311825940753, 6.788965939669572] Edmonton Oilers\n",
      "[-7.505800567898623, 7.152683126352298] Philadelphia Flyers\n",
      "[-4.885725034501183, 10.699525230702413] New York Islanders\n",
      "[-3.647711127838839, 6.672293967304138] Arizona Coyotes\n",
      "Consistent low home boosts: \n",
      "[-1.7135300943272596, 0.42776039067617716] Seattle SuperSonics\n",
      "[-1.7779924274765087, 0.6157135441788903] Toronto Raptors\n",
      "[-1.3869181660869965, 0.5384050674946773] Vancouver Grizzlies\n",
      "[-1.873143353146407, 0.6308926469839363] New Orleans Hornets\n",
      "[-2.390434647143609, 0.03998196474712973] New Orleans/Oklahoma City Hornets\n",
      "[-1.8747733791275751, 0.6165427835431679] Oklahoma City Thunder\n",
      "[-1.471184180597055, 0.6857593767662269] Brooklyn Nets\n",
      "[-1.4584714105614784, 0.564112660989192] SFG\n",
      "[-1.43980941298216, 0.824523230827438] CHW\n",
      "[-1.483274213444073, 0.8410130127713387] STL\n",
      "[-1.1538119689113608, 0.7648327953814227] NYM\n",
      "[-1.538623415769982, 0.7152701624089012] OAK\n",
      "[-1.2015413262213155, 0.34976649620739236] SEA\n",
      "[-1.2362857618230148, 0.32077086315661174] CLE\n",
      "[-1.5394543492123318, 0.43878716630043657] NYY\n",
      "[-1.3648515337043956, 0.7570181011684769] LAD\n",
      "[-1.2771563772770629, 0.9620012977477064] BOS\n",
      "[-1.2147028203290045, 0.32248927416603757] CIN\n",
      "[-1.3037493316166844, 0.5434391860039801] ARI\n",
      "[-1.5205431931980988, 0.4323065925258201] TOR\n",
      "[-1.4185951778819539, 0.5187959444535902] ANA\n",
      "[-1.385910449478644, 0.93208540982576] FLA\n",
      "[-1.4681453894418603, 1.1259104392708155] DET\n",
      "[-1.233523340641114, 0.3598868718623436] KCR\n",
      "[-1.4136948779449359, 0.9609726634562249] SDP\n",
      "[-1.4409707620104861, 0.8538168937780759] BAL\n",
      "[-1.6664092482411896, 0.8267655562023609] TEX\n",
      "[-1.3255480470826224, 0.6834142036542163] PHI\n",
      "[-1.3403718496124377, 0.7544301313866377] CHC\n",
      "[-1.167002183434528, 0.3406885197013865] LAA\n",
      "[-1.2935378250527012, 0.3166009535556119] WSN\n",
      "[-1.409827977934839, 0.4994408278036945] MIA\n"
     ]
    },
    {
     "data": {
      "image/png": "[encoded data removed]",
      "text/plain": [
       "<Figure size 432x288 with 1 Axes>"
      ]
     },
     "metadata": {
      "needs_background": "light"
     },
     "output_type": "display_data"
    }
   ],
   "source": [
    "#Are there teams out of all leagues which consistently enjoy a larger home boost?\n",
    "def computeOptimalClusters(testList):\n",
    "    xList=[]\n",
    "    yList=[]\n",
    "    length=len(tuple(testList))\n",
    "    list2=[]\n",
    "    for i in range(1,length+1,1):\n",
    "        cluster=KMeans(n_clusters=i)\n",
    "        fit=cluster.fit(testList)\n",
    "        list2.append([fit.inertia_, i])\n",
    "    for i in list2:\n",
    "        xList.append(i[1])\n",
    "        yList.append(i[0])\n",
    "    kn = KneeLocator(xList, yList, curve='convex', direction='decreasing')\n",
    "    print(kn.knee)\n",
    "    return(kn.knee)\n",
    "\n",
    "def evaluateConsistency(testList):\n",
    "    cluster=KMeans(n_clusters=computeOptimalClusters(testList), max_iter=10000, tol=.000000001,algorithm='auto')\n",
    "    cluster.fit(testList)\n",
    "    MeasureList=cluster.predict(testList)\n",
    "    scatter([i[0] for i in testList],[i[1] for i in testList],c=MeasureList)\n",
    "    minimum=min([index[1] for index in cluster.cluster_centers_])\n",
    "    minIndex=[i for i in range(0,len(cluster.cluster_centers_)) if cluster.cluster_centers_[i][1]==minimum]\n",
    "    selectList=[]\n",
    "    for index,point in zip(MeasureList,testList):\n",
    "        if(index==minIndex):\n",
    "            selectList.append(point)\n",
    "    return selectList\n",
    "\n",
    "consistencyDict={}\n",
    "consistencyList=[]\n",
    "for league in teamHomeBoosts:\n",
    "    for team in teamHomeBoosts[league]:\n",
    "        if(len(teamHomeBoosts[league][team])>=2):\n",
    "            variance=statistics.variance(teamHomeBoosts[league][team])\n",
    "        \n",
    "            mean=statistics.mean(teamHomeBoosts[league][team])\n",
    "            if(mean<=0):\n",
    "                consistencyDict[team]=[mean,variance]\n",
    "                consistencyList.append([mean,variance])\n",
    "\n",
    "meanSet=statistics.mean([item[0] for item in consistencyList])\n",
    "print(meanSet)\n",
    "greaterMeanList=[item for item in consistencyList if item[0]<meanSet]\n",
    "lesserMeanList=[item for item in consistencyList if item[0]>meanSet]\n",
    "consistentValuesLesser=evaluateConsistency(lesserMeanList)\n",
    "consistentValuesGreater=evaluateConsistency(greaterMeanList)\n",
    "print(\"Consistent high home boosts: \")\n",
    "for i in consistentValuesGreater:\n",
    "    print(i,list(consistencyDict.keys())[list(consistencyDict.values()).index(i)])\n",
    "print(\"Consistent low home boosts: \")\n",
    "for i in consistentValuesLesser:\n",
    "    print(i,list(consistencyDict.keys())[list(consistencyDict.values()).index(i)])\n",
    "\n",
    "\n",
    "\n",
    "\n"
   ]
  },
  {
   "cell_type": "code",
   "execution_count": 8,
   "metadata": {},
   "outputs": [
    {
     "name": "stdout",
     "output_type": "stream",
     "text": [
      "-2.1870050831905194\n",
      "3\n",
      "3\n",
      "Consistent high home boosts: \n",
      "[-2.4762455958750644, 1.1404442632558969] Portland Trail Blazers\n",
      "[-2.215768978810253, 0.9406476993508954] Milwaukee Bucks\n",
      "[-2.5133270841841795, 1.1961587853000308] Cleveland Cavaliers\n",
      "[-2.2720564120204325, 0.6586821939454445] Memphis Grizzlies\n",
      "[-2.390434647143609, 0.03998196474712973] New Orleans/Oklahoma City Hornets\n",
      "Consistent low home boosts: \n",
      "[-1.7135300943272596, 0.42776039067617716] Seattle SuperSonics\n",
      "[-1.7779924274765087, 0.6157135441788903] Toronto Raptors\n",
      "[-1.3869181660869965, 0.5384050674946773] Vancouver Grizzlies\n",
      "[-1.873143353146407, 0.6308926469839363] New Orleans Hornets\n",
      "[-1.8747733791275751, 0.6165427835431679] Oklahoma City Thunder\n",
      "[-1.471184180597055, 0.6857593767662269] Brooklyn Nets\n"
     ]
    },
    {
     "data": {
      "image/png": "[encoded data removed]",
      "text/plain": [
       "<Figure size 432x288 with 1 Axes>"
      ]
     },
     "metadata": {
      "needs_background": "light"
     },
     "output_type": "display_data"
    }
   ],
   "source": [
    "#which teams in the nba enjoy consistent higher and lower home boosts?\n",
    "consistencyDict={}\n",
    "consistencyList=[]\n",
    "\n",
    "for team in teamHomeBoosts[\"nba\"]:\n",
    "    if(len(teamHomeBoosts[\"nba\"][team])>=2):\n",
    "        variance=statistics.variance(teamHomeBoosts[\"nba\"][team])\n",
    "        mean=statistics.mean(teamHomeBoosts[\"nba\"][team])\n",
    "        if(mean<=0):\n",
    "            consistencyDict[team]=[mean,variance]\n",
    "            consistencyList.append([mean,variance])\n",
    "                                   \n",
    "                                   \n",
    "scatter([index[0] for index in consistencyList],[index[1] for index in consistencyList])\n",
    "\n",
    "meanSet=statistics.mean([item[0] for item in consistencyList])\n",
    "print(meanSet)\n",
    "greaterMeanList=[item for item in consistencyList if item[0]<meanSet]\n",
    "lesserMeanList=[item for item in consistencyList if item[0]>meanSet]\n",
    "consistentValuesLesser=evaluateConsistency(lesserMeanList)\n",
    "consistentValuesGreater=evaluateConsistency(greaterMeanList)\n",
    "print(\"Consistent high home boosts: \")\n",
    "for i in consistentValuesGreater:\n",
    "    print(i,list(consistencyDict.keys())[list(consistencyDict.values()).index(i)])\n",
    "print(\"Consistent low home boosts: \")\n",
    "for i in consistentValuesLesser:\n",
    "    print(i,list(consistencyDict.keys())[list(consistencyDict.values()).index(i)])\n"
   ]
  },
  {
   "cell_type": "code",
   "execution_count": 9,
   "metadata": {},
   "outputs": [
    {
     "name": "stdout",
     "output_type": "stream",
     "text": [
      "-1.4789554250230337\n",
      "4\n",
      "3\n",
      "Consistent high home boosts: \n",
      "[-1.483274213444073, 0.8410130127713387] STL\n",
      "[-1.538623415769982, 0.7152701624089012] OAK\n",
      "[-1.5394543492123318, 0.43878716630043657] NYY\n",
      "[-1.5205431931980988, 0.4323065925258201] TOR\n",
      "[-1.6664092482411896, 0.8267655562023609] TEX\n",
      "Consistent low home boosts: \n",
      "[-1.2015413262213155, 0.34976649620739236] SEA\n",
      "[-1.2362857618230148, 0.32077086315661174] CLE\n",
      "[-1.2147028203290045, 0.32248927416603757] CIN\n",
      "[-1.233523340641114, 0.3598868718623436] KCR\n",
      "[-1.167002183434528, 0.3406885197013865] LAA\n",
      "[-1.2935378250527012, 0.3166009535556119] WSN\n"
     ]
    },
    {
     "data": {
      "image/png": "[encoded data removed]",
      "text/plain": [
       "<Figure size 432x288 with 1 Axes>"
      ]
     },
     "metadata": {
      "needs_background": "light"
     },
     "output_type": "display_data"
    }
   ],
   "source": [
    "#which teams in the mlb enjoy consistent higher and lower home boosts?\n",
    "consistencyDict={}\n",
    "consistencyList=[]\n",
    "\n",
    "for team in teamHomeBoosts[\"mlb\"]:\n",
    "    if(len(teamHomeBoosts[\"mlb\"][team])>=2):\n",
    "        variance=statistics.variance(teamHomeBoosts[\"mlb\"][team])\n",
    "        mean=statistics.mean(teamHomeBoosts[\"mlb\"][team])\n",
    "        if(mean<=0):\n",
    "            consistencyDict[team]=[mean,variance]\n",
    "            consistencyList.append([mean,variance])\n",
    "                                   \n",
    "                                   \n",
    "scatter([index[0] for index in consistencyList],[index[1] for index in consistencyList])\n",
    "\n",
    "meanSet=statistics.mean([item[0] for item in consistencyList])\n",
    "print(meanSet)\n",
    "greaterMeanList=[item for item in consistencyList if item[0]<meanSet]\n",
    "lesserMeanList=[item for item in consistencyList if item[0]>meanSet]\n",
    "consistentValuesLesser=evaluateConsistency(lesserMeanList)\n",
    "consistentValuesGreater=evaluateConsistency(greaterMeanList)\n",
    "print(\"Consistent high home boosts: \")\n",
    "for i in consistentValuesGreater:\n",
    "    print(i,list(consistencyDict.keys())[list(consistencyDict.values()).index(i)])\n",
    "print(\"Consistent low home boosts: \")\n",
    "for i in consistentValuesLesser:\n",
    "    print(i,list(consistencyDict.keys())[list(consistencyDict.values()).index(i)])"
   ]
  },
  {
   "cell_type": "code",
   "execution_count": 10,
   "metadata": {},
   "outputs": [
    {
     "name": "stdout",
     "output_type": "stream",
     "text": [
      "-3.0011710348442624\n",
      "4\n",
      "3\n",
      "Consistent high home boosts: \n",
      "[-3.943459424549806, 5.482906443545058] Minnesota Vikings\n",
      "[-4.212087711854646, 6.109240468141274] Indianapolis Colts\n",
      "[-4.785610813556119, 4.250779783853469] Baltimore Ravens\n",
      "[-4.362143455953528, 4.0574173476600865] Pittsburgh Steelers\n",
      "[-3.190817757187607, 4.328670117241199] Philadelphia Eagles\n",
      "Consistent low home boosts: \n",
      "[-1.7124123030795648, 1.9218933682656056] Washington Redskins\n",
      "[-1.9730950849663047, 2.6756226367196474] Jacksonville Jaguars\n",
      "[-1.3340508136766407, 2.7759224981844413] Cleveland Browns\n",
      "[-2.018040838155232, 2.8834334506943677] Tampa Bay Buccaneers\n",
      "[-1.7037394863716029, 2.9166380722279004] Detroit Lions\n",
      "[-2.2804850789332605, 2.3140280088387173] New York Jets\n",
      "[-2.005786441297444, 1.1862558401804035] Buffalo Bills\n",
      "[-2.0881561040069525, 2.345350844297577] Los Angeles Chargers\n"
     ]
    },
    {
     "data": {
      "image/png": "[encoded data removed]",
      "text/plain": [
       "<Figure size 432x288 with 1 Axes>"
      ]
     },
     "metadata": {
      "needs_background": "light"
     },
     "output_type": "display_data"
    }
   ],
   "source": [
    "#which teams in the nfl enjoy consistent higher and lower home boosts?\n",
    "consistencyDict={}\n",
    "consistencyList=[]\n",
    "\n",
    "for team in teamHomeBoosts[\"nfl\"]:\n",
    "    if(len(teamHomeBoosts[\"nfl\"][team])>=2):\n",
    "        variance=statistics.variance(teamHomeBoosts[\"nfl\"][team])\n",
    "        mean=statistics.mean(teamHomeBoosts[\"nfl\"][team])\n",
    "        if(mean<=0):\n",
    "            consistencyDict[team]=[mean,variance]\n",
    "            consistencyList.append([mean,variance])\n",
    "                                   \n",
    "                                   \n",
    "scatter([index[0] for index in consistencyList],[index[1] for index in consistencyList])\n",
    "\n",
    "meanSet=statistics.mean([item[0] for item in consistencyList])\n",
    "print(meanSet)\n",
    "greaterMeanList=[item for item in consistencyList if item[0]<meanSet]\n",
    "lesserMeanList=[item for item in consistencyList if item[0]>meanSet]\n",
    "consistentValuesLesser=evaluateConsistency(lesserMeanList)\n",
    "consistentValuesGreater=evaluateConsistency(greaterMeanList)\n",
    "print(\"Consistent high home boosts: \")\n",
    "for i in consistentValuesGreater:\n",
    "    print(i,list(consistencyDict.keys())[list(consistencyDict.values()).index(i)])\n",
    "print(\"Consistent low home boosts: \")\n",
    "for i in consistentValuesLesser:\n",
    "    print(i,list(consistencyDict.keys())[list(consistencyDict.values()).index(i)])"
   ]
  },
  {
   "cell_type": "code",
   "execution_count": 11,
   "metadata": {},
   "outputs": [
    {
     "name": "stdout",
     "output_type": "stream",
     "text": [
      "-7.935295554585686\n",
      "4\n",
      "3\n",
      "Consistent high home boosts: \n",
      "[-9.26404889181831, 19.903860000366137] Dallas Stars\n",
      "[-9.020923266538354, 16.315564725096905] New Jersey Devils\n",
      "[-8.361700992039639, 21.224654979709065] Ottawa Senators\n",
      "[-10.210572334798398, 22.139836413910068] San Jose Sharks\n",
      "[-8.885730411809647, 24.445368712256332] St. Louis Blues\n",
      "[-8.048547538910796, 20.54756081484943] Vancouver Canucks\n",
      "[-8.147973739112746, 18.879567672747346] Colorado Avalanche\n",
      "[-8.126408720084067, 19.989612971108677] Minnesota Wild\n",
      "[-11.029065565041295, 17.032721341359398] Anaheim Ducks\n",
      "Consistent low home boosts: \n",
      "[-4.576311825940753, 6.788965939669572] Edmonton Oilers\n",
      "[-7.505800567898623, 7.152683126352298] Philadelphia Flyers\n",
      "[-4.885725034501183, 10.699525230702413] New York Islanders\n",
      "[-3.647711127838839, 6.672293967304138] Arizona Coyotes\n"
     ]
    },
    {
     "data": {
      "image/png": "[encoded data removed]",
      "text/plain": [
       "<Figure size 432x288 with 1 Axes>"
      ]
     },
     "metadata": {
      "needs_background": "light"
     },
     "output_type": "display_data"
    }
   ],
   "source": [
    "#which teams in the nhl enjoy consistent higher and lower home boosts?\n",
    "consistencyDict={}\n",
    "consistencyList=[]\n",
    "\n",
    "for team in teamHomeBoosts[\"nhl\"]:\n",
    "    if(len(teamHomeBoosts[\"nhl\"][team])>=2):\n",
    "        variance=statistics.variance(teamHomeBoosts[\"nhl\"][team])\n",
    "        mean=statistics.mean(teamHomeBoosts[\"nhl\"][team])\n",
    "        if(mean<=0):\n",
    "            consistencyDict[team]=[mean,variance]\n",
    "            consistencyList.append([mean,variance])\n",
    "                                   \n",
    "                                   \n",
    "scatter([index[0] for index in consistencyList],[index[1] for index in consistencyList])\n",
    "\n",
    "meanSet=statistics.mean([item[0] for item in consistencyList])\n",
    "print(meanSet)\n",
    "greaterMeanList=[item for item in consistencyList if item[0]<meanSet]\n",
    "lesserMeanList=[item for item in consistencyList if item[0]>meanSet]\n",
    "consistentValuesLesser=evaluateConsistency(lesserMeanList)\n",
    "consistentValuesGreater=evaluateConsistency(greaterMeanList)\n",
    "print(\"Consistent high home boosts: \")\n",
    "for i in consistentValuesGreater:\n",
    "    print(i,list(consistencyDict.keys())[list(consistencyDict.values()).index(i)])\n",
    "print(\"Consistent low home boosts: \")\n",
    "for i in consistentValuesLesser:\n",
    "    print(i,list(consistencyDict.keys())[list(consistencyDict.values()).index(i)])"
   ]
  },
  {
   "cell_type": "code",
   "execution_count": null,
   "metadata": {},
   "outputs": [],
   "source": []
  }
 ],
 "metadata": {
  "kernelspec": {
   "display_name": "Python 3",
   "language": "python",
   "name": "python3"
  },
  "language_info": {
   "codemirror_mode": {
    "name": "ipython",
    "version": 3
   },
   "file_extension": ".py",
   "mimetype": "text/x-python",
   "name": "python",
   "nbconvert_exporter": "python",
   "pygments_lexer": "ipython3",
   "version": "3.6.9"
  }
 },
 "nbformat": 4,
 "nbformat_minor": 4
}
