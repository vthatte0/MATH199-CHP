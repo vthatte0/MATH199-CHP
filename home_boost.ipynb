{
 "cells": [
  {
   "cell_type": "code",
   "execution_count": 7,
   "metadata": {},
   "outputs": [],
   "source": [
    "import pandas as pd\n",
    "import scipy.special\n",
    "import math"
   ]
  },
  {
   "cell_type": "code",
   "execution_count": 17,
   "metadata": {},
   "outputs": [
    {
     "name": "stdout",
     "output_type": "stream",
     "text": [
      "2001 Denver Nuggets -5.584793431365449\n",
      "2002 New Jersey Nets -4.444016767649159\n",
      "2003 Chicago Bulls -8.620230627143226\n",
      "2004 Dallas Mavericks -7.757497417601372\n",
      "2005 San Antonio Spurs -6.970570091337263\n",
      "2006 Orlando Magic -4.491720486818474\n",
      "2007 Golden State Warriors -5.6854126097084885\n",
      "2008 Utah Jazz -8.120960680710212\n",
      "2009 Utah Jazz -6.084120977243814\n",
      "2010 Charlotte Bobcats -5.799714816157004\n",
      "2011 Denver Nuggets -5.221992132606873\n",
      "2012 Utah Jazz -4.672668081620726\n",
      "2013 Denver Nuggets -8.030899955224543\n",
      "2014 Indiana Pacers -4.745391534633613\n",
      "2015 Golden State Warriors -4.51712130871859\n",
      "2016 San Antonio Spurs -6.042064542810159\n",
      "2017 Indiana Pacers -4.755360640485104\n",
      "2018 San Antonio Spurs -6.546983185786264\n",
      "2019 San Antonio Spurs -5.083659055945927\n",
      "2020 Philadelphia 76ers -8.969750876458228\n"
     ]
    }
   ],
   "source": [
    "years = range(2001, 2021)\n",
    "leagues = [\"nba\"] # TODO: add other leagues\n",
    "\n",
    "def get_home_boost(total_pct, home_wins, home_games):\n",
    "    prob = 0\n",
    "    for wins in range(home_wins, home_games + 1):\n",
    "        temp = scipy.special.binom(home_games, wins) * total_pct ** home_wins * (1-total_pct) ** (home_games - home_wins)        \n",
    "        prob += temp\n",
    "        \n",
    "    return math.log(prob)\n",
    "\n",
    "for league in leagues:\n",
    "    for year in years:\n",
    "        min_team = \"\"\n",
    "        min_boost = 0\n",
    "        \n",
    "        standings = pd.read_csv(\"data/\" + league + \"/\" + str(year) + \".csv\") \n",
    "        for (team, home, road) in zip(standings[\"Team\"], standings[\"Home\"], standings[\"Road\"]):\n",
    "            [home_wins, home_losses] = [int(games) for games in home.split(\"-\")]\n",
    "            [road_wins, road_losses] = [int(games) for games in road.split(\"-\")]\n",
    "\n",
    "            total_wins = home_wins + road_wins\n",
    "            total_games = total_wins + home_losses + road_losses\n",
    "\n",
    "            total_pct = total_wins / total_games\n",
    "\n",
    "            home_games = home_wins + home_losses\n",
    "            home_pct = home_wins / home_games\n",
    "            \n",
    "            boost = get_home_boost(total_pct, home_wins, home_games)\n",
    "            \n",
    "            if boost < min_boost:\n",
    "                min_team = team\n",
    "                min_boost = boost\n",
    "        print(year, min_team, min_boost)     \n",
    "        \n",
    "    "
   ]
  },
  {
   "cell_type": "code",
   "execution_count": null,
   "metadata": {},
   "outputs": [],
   "source": []
  }
 ],
 "metadata": {
  "kernelspec": {
   "display_name": "Python 3",
   "language": "python",
   "name": "python3"
  },
  "language_info": {
   "codemirror_mode": {
    "name": "ipython",
    "version": 3
   },
   "file_extension": ".py",
   "mimetype": "text/x-python",
   "name": "python",
   "nbconvert_exporter": "python",
   "pygments_lexer": "ipython3",
   "version": "3.6.9"
  }
 },
 "nbformat": 4,
 "nbformat_minor": 4
}
