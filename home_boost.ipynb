{
 "cells": [
  {
   "cell_type": "code",
   "execution_count": 42,
   "metadata": {},
   "outputs": [],
   "source": [
    "import pandas as pd\n",
    "import scipy.special\n",
    "import math\n",
    "from matplotlib.pyplot import plot,scatter\n",
    "import statistics\n",
    "from sklearn.cluster import KMeans\n",
    "from kneed import KneeLocator"
   ]
  },
  {
   "cell_type": "code",
   "execution_count": 56,
   "metadata": {},
   "outputs": [
    {
     "name": "stdout",
     "output_type": "stream",
     "text": [
      "nba 2000 Indiana Pacers -5.80511463827075\n",
      "nba 2001 Denver Nuggets -5.584793431365449\n",
      "nba 2002 New Jersey Nets -4.444016767649159\n",
      "nba 2003 Chicago Bulls -8.620230627143226\n",
      "nba 2004 Dallas Mavericks -7.757497417601372\n",
      "nba 2005 San Antonio Spurs -6.970570091337263\n",
      "nba 2006 Orlando Magic -4.491720486818474\n",
      "nba 2007 Golden State Warriors -5.6854126097084885\n",
      "nba 2008 Utah Jazz -8.120960680710212\n",
      "nba 2009 Utah Jazz -6.084120977243814\n",
      "nba 2010 Charlotte Bobcats -5.799714816157004\n",
      "nba 2011 Denver Nuggets -5.221992132606873\n",
      "nba 2012 Utah Jazz -4.672668081620726\n",
      "nba 2013 Denver Nuggets -8.030899955224543\n",
      "nba 2014 Indiana Pacers -4.745391534633613\n",
      "nba 2015 Golden State Warriors -4.51712130871859\n",
      "nba 2016 San Antonio Spurs -6.042064542810159\n",
      "nba 2017 Indiana Pacers -4.755360640485104\n",
      "nba 2018 San Antonio Spurs -6.546983185786264\n",
      "nba 2019 San Antonio Spurs -5.083659055945927\n",
      "nba 2020 Philadelphia 76ers -8.969750876458228\n",
      "mlb 2000 NYM -3.4389482986663387\n",
      "mlb 2001 FLA -3.1084245358757148\n",
      "mlb 2002 COL -4.081625398462299\n",
      "mlb 2003 COL -5.062656850466122\n",
      "mlb 2004 NYY -2.9762960510166154\n",
      "mlb 2005 HOU -3.5361792209473903\n",
      "mlb 2006 MIL -4.155466036181922\n",
      "mlb 2007 MIL -3.8622639577566638\n",
      "mlb 2008 MIN -3.876715934068758\n",
      "mlb 2009 TBR -4.165234736679976\n",
      "mlb 2010 DET -4.961882722062903\n",
      "mlb 2011 MIL -3.979577528826997\n",
      "mlb 2012 MIL -2.891103419795054\n",
      "mlb 2013 ATL -3.4912680450912625\n",
      "mlb 2014 COL -4.775563658042738\n",
      "mlb 2015 HOU -4.225830939452572\n",
      "mlb 2016 LAD -3.1361807663558676\n",
      "mlb 2017 BAL -3.055001467355288\n",
      "mlb 2018 MIN -3.971754409997009\n",
      "mlb 2019 CHC -3.633648987697059\n",
      "mlb 2020 MIN -4.120710520091669\n"
     ]
    }
   ],
   "source": [
    "years = range(2000, 2021)\n",
    "leagues = [\"nba\", \"mlb\"] # TODO: add other leagues\n",
    "\n",
    "def get_home_boost(total_pct, home_wins, home_games):\n",
    "    prob = 0\n",
    "    for wins in range(home_wins, home_games + 1):\n",
    "        temp = scipy.special.binom(home_games, wins) * total_pct ** home_wins * (1-total_pct) ** (home_games - home_wins)        \n",
    "        prob += temp\n",
    "        \n",
    "    return math.log(prob)\n",
    "\n",
    "teamHomeBoosts={}\n",
    "for league in leagues:\n",
    "    teamHomeBoosts[league]={}\n",
    "    for year in years:\n",
    "        min_team = \"\"\n",
    "        min_boost = 0\n",
    "        \n",
    "        standings = pd.read_csv(\"data/\" + league + \"/\" + str(year) + \".csv\") \n",
    "        for (team, home, road) in zip(standings[\"Team\"], standings[\"Home\"], standings[\"Road\"]):\n",
    "            [home_wins, home_losses] = [int(games) for games in home.split(\"-\")]\n",
    "            [road_wins, road_losses] = [int(games) for games in road.split(\"-\")]\n",
    "\n",
    "            total_wins = home_wins + road_wins\n",
    "            total_games = total_wins + home_losses + road_losses\n",
    "\n",
    "            total_pct = total_wins / total_games\n",
    "\n",
    "            home_games = home_wins + home_losses\n",
    "            home_pct = home_wins / home_games\n",
    "            \n",
    "            boost = get_home_boost(total_pct, home_wins, home_games)\n",
    "            \n",
    "            if(team not in teamHomeBoosts[league]):\n",
    "                teamHomeBoosts[league][team]=[]\n",
    "            teamHomeBoosts[league][team].append(boost)\n",
    "            \n",
    "            if boost < min_boost:\n",
    "                min_team = team\n",
    "                min_boost = boost\n",
    "        print(league, year, min_team, min_boost)     \n",
    "        \n",
    "    "
   ]
  },
  {
   "cell_type": "code",
   "execution_count": 51,
   "metadata": {},
   "outputs": [
    {
     "name": "stdout",
     "output_type": "stream",
     "text": [
      "-1.3882999985574926\n",
      "4\n",
      "4\n",
      "Consistent high home boosts: \n",
      "[-2.253017177936519, 0.027049022384828498] New Orleans/Oklahoma City Hornets\n",
      "[-1.456865726827523, 0.8964202963949687] SFG\n",
      "[-1.8854788511321505, 0.6539566408856704] STL\n",
      "[-2.0240271813382957, 0.3393754366705654] NYY\n",
      "[-1.7319598556909224, 0.6415558415005072] LAD\n",
      "[-1.3949714691767994, 0.6541553421225434] TOR\n",
      "[-1.55309031870017, 0.5730119632976514] ANA\n",
      "Consistent low home boosts: \n",
      "[-1.2515261806971725, 1.9379147397133565] Seattle SuperSonics\n",
      "[-0.30853182618379216, 3.4653283086876665] Brooklyn Nets\n",
      "[-1.2455066129267514, 1.6692873043969327] CHW\n",
      "[-0.9097474473514201, 1.4945265311797566] NYM\n",
      "[-0.8997665226040985, 0.690771798564469] SEA\n",
      "[-1.273894398239963, 0.6032187291533648] CLE\n",
      "[-0.6678447575007007, 1.58552894470435] CIN\n",
      "[-0.868279176601549, 2.1547231328190506] ARI\n",
      "[-1.2203980293292587, 1.6041240528779317] FLA\n",
      "[-0.2090351667154086, 1.3293120913857077] KCR\n",
      "[-0.9308864572427297, 1.6874509818024874] SDP\n",
      "[-1.1288300097214692, 3.050514332823729] MIL\n",
      "[-0.6691900191576653, 3.103620555840134] TBD\n",
      "[-1.1240957240071707, 1.867099813549856] PIT\n",
      "[-1.2453177831865403, 0.929681329202398] PHI\n",
      "[-1.1168859159458735, 1.54693381372938] CHC\n",
      "[-1.3378963513909494, 0.5053258879639231] LAA\n",
      "[-1.0934013927136563, 0.7764876445639581] WSN\n",
      "[-0.47590584641126166, 1.6603035676613447] MIA\n"
     ]
    },
    {
     "data": {
      "image/png": "[encoded data removed]",
      "text/plain": [
       "<Figure size 432x288 with 1 Axes>"
      ]
     },
     "metadata": {
      "needs_background": "light"
     },
     "output_type": "display_data"
    }
   ],
   "source": [
    "#Are there teams out of all leagues which consistently enjoy a larger home boost?\n",
    "def computeOptimalClusters(testList):\n",
    "    xList=[]\n",
    "    yList=[]\n",
    "    length=len(tuple(testList))\n",
    "    list2=[]\n",
    "    for i in range(1,length+1,1):\n",
    "        cluster=KMeans(n_clusters=i)\n",
    "        fit=cluster.fit(testList)\n",
    "        list2.append([fit.inertia_, i])\n",
    "    for i in list2:\n",
    "        xList.append(i[1])\n",
    "        yList.append(i[0])\n",
    "    kn = KneeLocator(xList, yList, curve='convex', direction='decreasing')\n",
    "    print(kn.knee)\n",
    "    return(kn.knee)\n",
    "\n",
    "def evaluateConsistency(testList):\n",
    "    cluster=KMeans(n_clusters=computeOptimalClusters(testList), max_iter=10000, tol=.000000001,algorithm='auto')\n",
    "    cluster.fit(testList)\n",
    "    MeasureList=cluster.predict(testList)\n",
    "    scatter([i[0] for i in testList],[i[1] for i in testList],c=MeasureList)\n",
    "    minimum=min([index[1] for index in cluster.cluster_centers_])\n",
    "    minIndex=[i for i in range(0,len(cluster.cluster_centers_)) if cluster.cluster_centers_[i][1]==minimum]\n",
    "    selectList=[]\n",
    "    for index,point in zip(MeasureList,testList):\n",
    "        if(index==minIndex):\n",
    "            selectList.append(point)\n",
    "    return selectList\n",
    "\n",
    "consistencyDict={}\n",
    "consistencyList=[]\n",
    "for league in teamHomeBoosts:\n",
    "    for team in teamHomeBoosts[league]:\n",
    "        if(len(teamHomeBoosts[league][team])>=2):\n",
    "            variance=statistics.variance(teamHomeBoosts[league][team])\n",
    "        \n",
    "            mean=statistics.mean(teamHomeBoosts[league][team])\n",
    "            if(mean<=0):\n",
    "                consistencyDict[team]=[mean,variance]\n",
    "                consistencyList.append([mean,variance])\n",
    "\n",
    "meanSet=statistics.mean([item[0] for item in consistencyList])\n",
    "print(meanSet)\n",
    "greaterMeanList=[item for item in consistencyList if item[0]<meanSet]\n",
    "lesserMeanList=[item for item in consistencyList if item[0]>meanSet]\n",
    "consistentValuesLesser=evaluateConsistency(lesserMeanList)\n",
    "consistentValuesGreater=evaluateConsistency(greaterMeanList)\n",
    "print(\"Consistent high home boosts: \")\n",
    "for i in consistentValuesGreater:\n",
    "    print(i,list(consistencyDict.keys())[list(consistencyDict.values()).index(i)])\n",
    "print(\"Consistent low home boosts: \")\n",
    "for i in consistentValuesLesser:\n",
    "    print(i,list(consistencyDict.keys())[list(consistencyDict.values()).index(i)])\n",
    "\n",
    "\n",
    "\n",
    "\n"
   ]
  },
  {
   "cell_type": "code",
   "execution_count": 52,
   "metadata": {},
   "outputs": [
    {
     "name": "stdout",
     "output_type": "stream",
     "text": [
      "-1.5797575830201112\n",
      "4\n",
      "3\n",
      "Consistent high home boosts: \n",
      "[-2.3938628308658942, 1.625119396448424] Portland Trail Blazers\n",
      "[-2.8921636843512273, 1.6806716632762007] Indiana Pacers\n",
      "[-1.727826502685057, 2.1071482672013326] Detroit Pistons\n",
      "[-2.0411223725913334, 1.455346721135553] Houston Rockets\n",
      "[-2.253017177936519, 0.027049022384828498] New Orleans/Oklahoma City Hornets\n",
      "[-2.025935107168257, 1.229622112724508] Oklahoma City Thunder\n",
      "Consistent low home boosts: \n",
      "[-1.2515261806971725, 1.9379147397133565] Seattle SuperSonics\n",
      "[-1.423583703574195, 1.7674342046787934] Toronto Raptors\n",
      "[-0.30853182618379216, 3.4653283086876665] Brooklyn Nets\n",
      "[-1.4811424582952113, 1.375558405537995] New Orleans Pelicans\n"
     ]
    },
    {
     "data": {
      "image/png": "[encoded data removed]",
      "text/plain": [
       "<Figure size 432x288 with 1 Axes>"
      ]
     },
     "metadata": {
      "needs_background": "light"
     },
     "output_type": "display_data"
    }
   ],
   "source": [
    "#which teams in the nba enjoy consistent higher and lower home boosts?\n",
    "consistencyDict={}\n",
    "consistencyList=[]\n",
    "\n",
    "for team in teamHomeBoosts[\"nba\"]:\n",
    "    if(len(teamHomeBoosts[\"nba\"][team])>=2):\n",
    "        variance=statistics.variance(teamHomeBoosts[\"nba\"][team])\n",
    "        mean=statistics.mean(teamHomeBoosts[\"nba\"][team])\n",
    "        if(mean<=0):\n",
    "            consistencyDict[team]=[mean,variance]\n",
    "            consistencyList.append([mean,variance])\n",
    "                                   \n",
    "                                   \n",
    "scatter([index[0] for index in consistencyList],[index[1] for index in consistencyList])\n",
    "\n",
    "meanSet=statistics.mean([item[0] for item in consistencyList])\n",
    "print(meanSet)\n",
    "greaterMeanList=[item for item in consistencyList if item[0]<meanSet]\n",
    "lesserMeanList=[item for item in consistencyList if item[0]>meanSet]\n",
    "consistentValuesLesser=evaluateConsistency(lesserMeanList)\n",
    "consistentValuesGreater=evaluateConsistency(greaterMeanList)\n",
    "print(\"Consistent high home boosts: \")\n",
    "for i in consistentValuesGreater:\n",
    "    print(i,list(consistencyDict.keys())[list(consistencyDict.values()).index(i)])\n",
    "print(\"Consistent low home boosts: \")\n",
    "for i in consistentValuesLesser:\n",
    "    print(i,list(consistencyDict.keys())[list(consistencyDict.values()).index(i)])\n"
   ]
  },
  {
   "cell_type": "code",
   "execution_count": 53,
   "metadata": {},
   "outputs": [
    {
     "name": "stdout",
     "output_type": "stream",
     "text": [
      "-1.1912113086695029\n",
      "3\n",
      "3\n",
      "Consistent high home boosts: \n",
      "[-1.456865726827523, 0.8964202963949687] SFG\n",
      "[-1.8854788511321505, 0.6539566408856704] STL\n",
      "[-1.273894398239963, 0.6032187291533648] CLE\n",
      "[-2.0240271813382957, 0.3393754366705654] NYY\n",
      "[-1.7319598556909224, 0.6415558415005072] LAD\n",
      "[-1.3949714691767994, 0.6541553421225434] TOR\n",
      "[-1.55309031870017, 0.5730119632976514] ANA\n",
      "[-1.2453177831865403, 0.929681329202398] PHI\n",
      "[-1.3378963513909494, 0.5053258879639231] LAA\n",
      "Consistent low home boosts: \n",
      "[-0.9097474473514201, 1.4945265311797566] NYM\n",
      "[-0.8997665226040985, 0.690771798564469] SEA\n",
      "[-0.6678447575007007, 1.58552894470435] CIN\n",
      "[-0.868279176601549, 2.1547231328190506] ARI\n",
      "[-0.2090351667154086, 1.3293120913857077] KCR\n",
      "[-0.9308864572427297, 1.6874509818024874] SDP\n",
      "[-1.1240957240071707, 1.867099813549856] PIT\n",
      "[-1.1168859159458735, 1.54693381372938] CHC\n",
      "[-1.0934013927136563, 0.7764876445639581] WSN\n",
      "[-0.47590584641126166, 1.6603035676613447] MIA\n"
     ]
    },
    {
     "data": {
      "image/png": "[encoded data removed]",
      "text/plain": [
       "<Figure size 432x288 with 1 Axes>"
      ]
     },
     "metadata": {
      "needs_background": "light"
     },
     "output_type": "display_data"
    }
   ],
   "source": [
    "#which teams in the mlb enjoy consistent higher and lower home boosts?\n",
    "consistencyDict={}\n",
    "consistencyList=[]\n",
    "\n",
    "for team in teamHomeBoosts[\"mlb\"]:\n",
    "    if(len(teamHomeBoosts[\"mlb\"][team])>=2):\n",
    "        variance=statistics.variance(teamHomeBoosts[\"mlb\"][team])\n",
    "        mean=statistics.mean(teamHomeBoosts[\"mlb\"][team])\n",
    "        if(mean<=0):\n",
    "            consistencyDict[team]=[mean,variance]\n",
    "            consistencyList.append([mean,variance])\n",
    "                                   \n",
    "                                   \n",
    "scatter([index[0] for index in consistencyList],[index[1] for index in consistencyList])\n",
    "\n",
    "meanSet=statistics.mean([item[0] for item in consistencyList])\n",
    "print(meanSet)\n",
    "greaterMeanList=[item for item in consistencyList if item[0]<meanSet]\n",
    "lesserMeanList=[item for item in consistencyList if item[0]>meanSet]\n",
    "consistentValuesLesser=evaluateConsistency(lesserMeanList)\n",
    "consistentValuesGreater=evaluateConsistency(greaterMeanList)\n",
    "print(\"Consistent high home boosts: \")\n",
    "for i in consistentValuesGreater:\n",
    "    print(i,list(consistencyDict.keys())[list(consistencyDict.values()).index(i)])\n",
    "print(\"Consistent low home boosts: \")\n",
    "for i in consistentValuesLesser:\n",
    "    print(i,list(consistencyDict.keys())[list(consistencyDict.values()).index(i)])"
   ]
  },
  {
   "cell_type": "code",
   "execution_count": null,
   "metadata": {},
   "outputs": [],
   "source": []
  }
 ],
 "metadata": {
  "kernelspec": {
   "display_name": "Python 3",
   "language": "python",
   "name": "python3"
  },
  "language_info": {
   "codemirror_mode": {
    "name": "ipython",
    "version": 3
   },
   "file_extension": ".py",
   "mimetype": "text/x-python",
   "name": "python",
   "nbconvert_exporter": "python",
   "pygments_lexer": "ipython3",
   "version": "3.7.3"
  }
 },
 "nbformat": 4,
 "nbformat_minor": 4
}
