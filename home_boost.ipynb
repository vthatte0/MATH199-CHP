{
 "cells": [
  {
   "cell_type": "code",
   "execution_count": 1,
   "metadata": {
    "collapsed": true
   },
   "outputs": [],
   "source": [
    "import pandas as pd\n",
    "import scipy.special\n",
    "import math"
   ]
  },
  {
   "cell_type": "code",
   "execution_count": 2,
   "metadata": {},
   "outputs": [
    {
     "name": "stdout",
     "output_type": "stream",
     "text": [
      "nba 2000 Indiana Pacers -5.80511463827075\n",
      "nba 2001 Denver Nuggets -5.584793431365449\n",
      "nba 2002 New Jersey Nets -4.444016767649159\n",
      "nba 2003 Chicago Bulls -8.620230627143226\n",
      "nba 2004 Dallas Mavericks -7.757497417601372\n",
      "nba 2005 San Antonio Spurs -6.970570091337263\n",
      "nba 2006 Orlando Magic -4.491720486818474\n",
      "nba 2007 Golden State Warriors -5.6854126097084885\n",
      "nba 2008 Utah Jazz -8.120960680710212\n",
      "nba 2009 Utah Jazz -6.084120977243814\n",
      "nba 2010 Charlotte Bobcats -5.799714816157004\n",
      "nba 2011 Denver Nuggets -5.221992132606873\n",
      "nba 2012 Utah Jazz -4.672668081620726\n",
      "nba 2013 Denver Nuggets -8.030899955224543\n",
      "nba 2014 Indiana Pacers -4.745391534633613\n",
      "nba 2015 Golden State Warriors -4.51712130871859\n",
      "nba 2016 San Antonio Spurs -6.042064542810159\n",
      "nba 2017 Indiana Pacers -4.755360640485104\n",
      "nba 2018 San Antonio Spurs -6.546983185786264\n",
      "nba 2019 San Antonio Spurs -5.083659055945927\n",
      "nba 2020 Philadelphia 76ers -8.969750876458228\n",
      "mlb 2000 NYM -3.4389482986663387\n",
      "mlb 2001 FLA -3.1084245358757148\n",
      "mlb 2002 COL -4.0816253984623\n",
      "mlb 2003 COL -5.062656850466122\n",
      "mlb 2004 NYY -2.9762960510166154\n",
      "mlb 2005 HOU -3.5361792209473903\n",
      "mlb 2006 MIL -4.155466036181922\n",
      "mlb 2007 MIL -3.8622639577566638\n",
      "mlb 2008 MIN -3.876715934068758\n",
      "mlb 2009 TBR -4.165234736679976\n",
      "mlb 2010 DET -4.961882722062903\n",
      "mlb 2011 MIL -3.979577528826997\n",
      "mlb 2012 MIL -2.8911034197950545\n",
      "mlb 2013 ATL -3.491268045091262\n",
      "mlb 2014 COL -4.775563658042738\n",
      "mlb 2015 HOU -4.225830939452572\n",
      "mlb 2016 LAD -3.1361807663558676\n",
      "mlb 2017 BAL -3.0550014673552877\n",
      "mlb 2018 MIN -3.971754409997009\n",
      "mlb 2019 CHC -3.633648987697059\n",
      "mlb 2020 MIN -4.120710520091669\n"
     ]
    }
   ],
   "source": [
    "years = range(2000, 2021)\n",
    "leagues = [\"nba\", \"mlb\"] # TODO: add other leagues\n",
    "\n",
    "def get_home_boost(total_pct, home_wins, home_games):\n",
    "    prob = 0\n",
    "    for wins in range(home_wins, home_games + 1):\n",
    "        temp = scipy.special.binom(home_games, wins) * total_pct ** home_wins * (1-total_pct) ** (home_games - home_wins)        \n",
    "        prob += temp\n",
    "        \n",
    "    return math.log(prob)\n",
    "\n",
    "for league in leagues:\n",
    "    for year in years:\n",
    "        min_team = \"\"\n",
    "        min_boost = 0\n",
    "        \n",
    "        standings = pd.read_csv(\"data/\" + league + \"/\" + str(year) + \".csv\") \n",
    "        for (team, home, road) in zip(standings[\"Team\"], standings[\"Home\"], standings[\"Road\"]):\n",
    "            [home_wins, home_losses] = [int(games) for games in home.split(\"-\")]\n",
    "            [road_wins, road_losses] = [int(games) for games in road.split(\"-\")]\n",
    "\n",
    "            total_wins = home_wins + road_wins\n",
    "            total_games = total_wins + home_losses + road_losses\n",
    "\n",
    "            total_pct = total_wins / total_games\n",
    "\n",
    "            home_games = home_wins + home_losses\n",
    "            home_pct = home_wins / home_games\n",
    "            \n",
    "            boost = get_home_boost(total_pct, home_wins, home_games)\n",
    "            \n",
    "            if boost < min_boost:\n",
    "                min_team = team\n",
    "                min_boost = boost\n",
    "        print(league, year, min_team, min_boost)     \n",
    "        \n",
    "    "
   ]
  },
  {
   "cell_type": "code",
   "execution_count": null,
   "metadata": {
    "collapsed": true
   },
   "outputs": [],
   "source": []
  }
 ],
 "metadata": {
  "kernelspec": {
   "display_name": "Python 3",
   "language": "python",
   "name": "python3"
  },
  "language_info": {
   "codemirror_mode": {
    "name": "ipython",
    "version": 3
   },
   "file_extension": ".py",
   "mimetype": "text/x-python",
   "name": "python",
   "nbconvert_exporter": "python",
   "pygments_lexer": "ipython3",
   "version": "3.6.3"
  }
 },
 "nbformat": 4,
 "nbformat_minor": 4
}
