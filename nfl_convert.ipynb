{
 "cells": [
  {
   "cell_type": "code",
   "execution_count": 1,
   "metadata": {},
   "outputs": [],
   "source": [
    "import pandas as pd"
   ]
  },
  {
   "cell_type": "code",
   "execution_count": 2,
   "metadata": {},
   "outputs": [],
   "source": [
    "for year in range(2000, 2020):\n",
    "    games = pd.read_csv(\"data/games/nfl/\" + str(year) + \".csv\")\n",
    "    standings = {}\n",
    "    for game in zip(games[\"Winner/tie\"], games[\"Unnamed: 5\"], games[\"Loser/tie\"], games[\"PtsW\"], games[\"PtsL\"]):\n",
    "        (winner, loc, loser, winner_points, loser_points) = game\n",
    "        \n",
    "        if winner not in standings:\n",
    "            standings[winner] = { \"wins\": 0, \"games\": 0, \"home_wins\": 0, \"home_games\": 0}\n",
    "            \n",
    "        if loser not in standings:\n",
    "            standings[loser] = { \"wins\": 0, \"games\": 0, \"home_wins\": 0, \"home_games\": 0}\n",
    "            \n",
    "        standings[winner][\"games\"] += 1\n",
    "        standings[loser][\"games\"] += 1\n",
    "        \n",
    "        tie = winner_points == loser_points\n",
    "        \n",
    "        standings[winner][\"wins\"] += 0.5 if tie else 1\n",
    "        standings[loser][\"wins\"] += 0.5 if tie else 0\n",
    "        \n",
    "        loser_home = loc == \"@\"\n",
    "        \n",
    "        home = loser if loser_home else winner\n",
    "        standings[home][\"home_games\"] += 1\n",
    "        \n",
    "        if tie:\n",
    "            standings[home][\"home_wins\"] += 0.5\n",
    "        else:\n",
    "            standings[home][\"home_wins\"] += 0 if loser_home else 1\n",
    "        \n",
    "    df = pd.DataFrame([[key, standings[key][\"games\"], standings[key][\"wins\"], standings[key][\"home_games\"], standings[key][\"home_wins\"]] for key in standings], columns=[\"Team\", \"Games\", \"Wins\", \"Home Games\", \"Home Wins\"])\n",
    "    df.to_csv(\"data/nfl/\" + str(year) + \".csv\", index=False)"
   ]
  },
  {
   "cell_type": "code",
   "execution_count": null,
   "metadata": {},
   "outputs": [],
   "source": []
  }
 ],
 "metadata": {
  "kernelspec": {
   "display_name": "Python 3",
   "language": "python",
   "name": "python3"
  },
  "language_info": {
   "codemirror_mode": {
    "name": "ipython",
    "version": 3
   },
   "file_extension": ".py",
   "mimetype": "text/x-python",
   "name": "python",
   "nbconvert_exporter": "python",
   "pygments_lexer": "ipython3",
   "version": "3.7.3"
  }
 },
 "nbformat": 4,
 "nbformat_minor": 4
}
