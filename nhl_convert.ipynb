{
 "cells": [
  {
   "cell_type": "code",
   "execution_count": 1,
   "metadata": {},
   "outputs": [],
   "source": [
    "import pandas as pd"
   ]
  },
  {
   "cell_type": "code",
   "execution_count": 4,
   "metadata": {},
   "outputs": [],
   "source": [
    "\n",
    "\n",
    "for year in range(2000, 2020):\n",
    "    if year == 2005:\n",
    "        continue # 2005 was a lockout season\n",
    "    \n",
    "    games = pd.read_csv(\"data/games/nhl/\" + str(year) + \".csv\")\n",
    "    standings = {}\n",
    "    for game in zip(games[\"Visitor\"], games[\"G\"], games[\"Home\"], games[\"G.1\"]):\n",
    "        (visitor, visitor_goals, home, home_goals) = game\n",
    "        \n",
    "        if visitor not in standings:\n",
    "            standings[visitor] = { \"wins\": 0, \"games\": 0, \"home_wins\": 0, \"home_games\": 0}\n",
    "            \n",
    "        if home not in standings:\n",
    "            standings[home] = { \"wins\": 0, \"games\": 0, \"home_wins\": 0, \"home_games\": 0}\n",
    "            \n",
    "        standings[visitor][\"games\"] += 1\n",
    "        standings[home][\"games\"] += 1\n",
    "        standings[home][\"home_games\"] += 1\n",
    "        \n",
    "        home_win = home_goals > visitor_goals\n",
    "        \n",
    "        standings[visitor][\"wins\"] += 0 if home_win else 1\n",
    "        standings[home][\"wins\"] += 1 if home_win else 0\n",
    "        standings[home][\"home_wins\"] += 1 if home_win else 0\n",
    "        \n",
    "    df = pd.DataFrame([[key, standings[key][\"games\"], standings[key][\"wins\"], standings[key][\"home_games\"], standings[key][\"home_wins\"]] for key in standings], columns=[\"Team\", \"Games\", \"Wins\", \"Home Games\", \"Home Wins\"])\n",
    "    df.to_csv(\"data/nhl/\" + str(year) + \".csv\", index=False)"
   ]
  },
  {
   "cell_type": "code",
   "execution_count": null,
   "metadata": {},
   "outputs": [],
   "source": []
  }
 ],
 "metadata": {
  "kernelspec": {
   "display_name": "Python 3",
   "language": "python",
   "name": "python3"
  },
  "language_info": {
   "codemirror_mode": {
    "name": "ipython",
    "version": 3
   },
   "file_extension": ".py",
   "mimetype": "text/x-python",
   "name": "python",
   "nbconvert_exporter": "python",
   "pygments_lexer": "ipython3",
   "version": "3.6.9"
  }
 },
 "nbformat": 4,
 "nbformat_minor": 4
}
